{
 "cells": [
  {
   "cell_type": "markdown",
   "metadata": {},
   "source": [
    "# Addition Similarity"
   ]
  },
  {
   "cell_type": "code",
   "execution_count": 1,
   "metadata": {
    "collapsed": false
   },
   "outputs": [],
   "source": [
    "# Import libraries\n",
    "import numpy as np\n",
    "import pandas as pd\n",
    "# Import the data\n",
    "import WTBLoad\n",
    "wtb = WTBLoad.load()"
   ]
  },
  {
   "cell_type": "markdown",
   "metadata": {},
   "source": [
    "Question: I want to know how similar 2 additions are. For instance, I'm thinking of brewing a beer with plums and vanilla, and I want to know how similar they are. \n",
    "\n",
    "How to get there: The dataset shows the percentage of votes that said a style-addition combo would likely taste good. So, we can compare the votes on each style for the two additions, and see how similar they are."
   ]
  },
  {
   "cell_type": "code",
   "execution_count": 2,
   "metadata": {
    "collapsed": false
   },
   "outputs": [],
   "source": [
    "import math\n",
    "# Square the difference of each row, and then return the mean of the column. \n",
    "# This is the average difference between the two.\n",
    "# It will be higher if they are different, and lower if they are similar\n",
    "def similarity(additionA, additionB):\n",
    "    diff = np.square(wtb[additionA] - wtb[additionB])\n",
    "    return diff.mean()\n",
    "\n",
    "res = []\n",
    "# Loop through each addition pair\n",
    "for additionA in wtb.columns:\n",
    "    for additionB in wtb.columns:\n",
    "        # Skip if additionA and combo B are the same. \n",
    "        # To prevent duplicates, skip if A is after B alphabetically\n",
    "        if additionA != additionB and additionA < additionB:\n",
    "            res.append([additionA, additionB, similarity(additionA, additionB)])\n",
    "df = pd.DataFrame(res, columns=[\"additionA\", \"additionB\", \"similarity\"])"
   ]
  },
  {
   "cell_type": "markdown",
   "metadata": {},
   "source": [
    "## Top 10 most similar additions"
   ]
  },
  {
   "cell_type": "code",
   "execution_count": 3,
   "metadata": {
    "collapsed": false
   },
   "outputs": [
    {
     "data": {
      "text/html": [
       "<div>\n",
       "<table border=\"1\" class=\"dataframe\">\n",
       "  <thead>\n",
       "    <tr style=\"text-align: right;\">\n",
       "      <th></th>\n",
       "      <th>additionA</th>\n",
       "      <th>additionB</th>\n",
       "      <th>similarity</th>\n",
       "    </tr>\n",
       "  </thead>\n",
       "  <tbody>\n",
       "    <tr>\n",
       "      <th>530</th>\n",
       "      <td>chamomile</td>\n",
       "      <td>rose hips</td>\n",
       "      <td>0.011956</td>\n",
       "    </tr>\n",
       "    <tr>\n",
       "      <th>403</th>\n",
       "      <td>bourbon</td>\n",
       "      <td>whiskey</td>\n",
       "      <td>0.013294</td>\n",
       "    </tr>\n",
       "    <tr>\n",
       "      <th>962</th>\n",
       "      <td>grapefruit</td>\n",
       "      <td>lemon grass</td>\n",
       "      <td>0.013347</td>\n",
       "    </tr>\n",
       "    <tr>\n",
       "      <th>928</th>\n",
       "      <td>ginger</td>\n",
       "      <td>juniper berries</td>\n",
       "      <td>0.013454</td>\n",
       "    </tr>\n",
       "    <tr>\n",
       "      <th>514</th>\n",
       "      <td>chamomile</td>\n",
       "      <td>lemon pepper</td>\n",
       "      <td>0.013545</td>\n",
       "    </tr>\n",
       "    <tr>\n",
       "      <th>88</th>\n",
       "      <td>apple</td>\n",
       "      <td>pear</td>\n",
       "      <td>0.013556</td>\n",
       "    </tr>\n",
       "    <tr>\n",
       "      <th>297</th>\n",
       "      <td>blackberry</td>\n",
       "      <td>raspberry</td>\n",
       "      <td>0.013563</td>\n",
       "    </tr>\n",
       "    <tr>\n",
       "      <th>501</th>\n",
       "      <td>chamomile</td>\n",
       "      <td>coriander</td>\n",
       "      <td>0.014286</td>\n",
       "    </tr>\n",
       "    <tr>\n",
       "      <th>265</th>\n",
       "      <td>blackberry</td>\n",
       "      <td>cherry</td>\n",
       "      <td>0.014319</td>\n",
       "    </tr>\n",
       "    <tr>\n",
       "      <th>529</th>\n",
       "      <td>chamomile</td>\n",
       "      <td>rhubarb</td>\n",
       "      <td>0.014383</td>\n",
       "    </tr>\n",
       "  </tbody>\n",
       "</table>\n",
       "</div>"
      ],
      "text/plain": [
       "      additionA        additionB  similarity\n",
       "530   chamomile        rose hips    0.011956\n",
       "403     bourbon          whiskey    0.013294\n",
       "962  grapefruit      lemon grass    0.013347\n",
       "928      ginger  juniper berries    0.013454\n",
       "514   chamomile     lemon pepper    0.013545\n",
       "88        apple             pear    0.013556\n",
       "297  blackberry        raspberry    0.013563\n",
       "501   chamomile        coriander    0.014286\n",
       "265  blackberry           cherry    0.014319\n",
       "529   chamomile          rhubarb    0.014383"
      ]
     },
     "execution_count": 3,
     "metadata": {},
     "output_type": "execute_result"
    }
   ],
   "source": [
    "df.sort_values(\"similarity\").head(10)"
   ]
  },
  {
   "cell_type": "markdown",
   "metadata": {},
   "source": [
    "## 10 Least Similar additions"
   ]
  },
  {
   "cell_type": "code",
   "execution_count": 4,
   "metadata": {
    "collapsed": false
   },
   "outputs": [
    {
     "data": {
      "text/html": [
       "<div>\n",
       "<table border=\"1\" class=\"dataframe\">\n",
       "  <thead>\n",
       "    <tr style=\"text-align: right;\">\n",
       "      <th></th>\n",
       "      <th>additionA</th>\n",
       "      <th>additionB</th>\n",
       "      <th>similarity</th>\n",
       "    </tr>\n",
       "  </thead>\n",
       "  <tbody>\n",
       "    <tr>\n",
       "      <th>1432</th>\n",
       "      <td>red wine</td>\n",
       "      <td>rye</td>\n",
       "      <td>0.159639</td>\n",
       "    </tr>\n",
       "    <tr>\n",
       "      <th>1243</th>\n",
       "      <td>oak</td>\n",
       "      <td>red wine</td>\n",
       "      <td>0.152291</td>\n",
       "    </tr>\n",
       "    <tr>\n",
       "      <th>1238</th>\n",
       "      <td>oak</td>\n",
       "      <td>piña colada</td>\n",
       "      <td>0.146401</td>\n",
       "    </tr>\n",
       "    <tr>\n",
       "      <th>1264</th>\n",
       "      <td>orange peel</td>\n",
       "      <td>red wine</td>\n",
       "      <td>0.145567</td>\n",
       "    </tr>\n",
       "    <tr>\n",
       "      <th>876</th>\n",
       "      <td>cucumber</td>\n",
       "      <td>port</td>\n",
       "      <td>0.143464</td>\n",
       "    </tr>\n",
       "    <tr>\n",
       "      <th>246</th>\n",
       "      <td>basil</td>\n",
       "      <td>port</td>\n",
       "      <td>0.142268</td>\n",
       "    </tr>\n",
       "    <tr>\n",
       "      <th>1372</th>\n",
       "      <td>piña colada</td>\n",
       "      <td>rye</td>\n",
       "      <td>0.139274</td>\n",
       "    </tr>\n",
       "    <tr>\n",
       "      <th>1366</th>\n",
       "      <td>piña colada</td>\n",
       "      <td>port</td>\n",
       "      <td>0.137152</td>\n",
       "    </tr>\n",
       "    <tr>\n",
       "      <th>1405</th>\n",
       "      <td>port</td>\n",
       "      <td>watermelon</td>\n",
       "      <td>0.132705</td>\n",
       "    </tr>\n",
       "    <tr>\n",
       "      <th>1434</th>\n",
       "      <td>red wine</td>\n",
       "      <td>smoke</td>\n",
       "      <td>0.129498</td>\n",
       "    </tr>\n",
       "  </tbody>\n",
       "</table>\n",
       "</div>"
      ],
      "text/plain": [
       "        additionA    additionB  similarity\n",
       "1432     red wine          rye    0.159639\n",
       "1243          oak     red wine    0.152291\n",
       "1238          oak  piña colada    0.146401\n",
       "1264  orange peel     red wine    0.145567\n",
       "876      cucumber         port    0.143464\n",
       "246         basil         port    0.142268\n",
       "1372  piña colada          rye    0.139274\n",
       "1366  piña colada         port    0.137152\n",
       "1405         port   watermelon    0.132705\n",
       "1434     red wine        smoke    0.129498"
      ]
     },
     "execution_count": 4,
     "metadata": {},
     "output_type": "execute_result"
    }
   ],
   "source": [
    "df.sort_values(\"similarity\", ascending=False).head(10)"
   ]
  },
  {
   "cell_type": "markdown",
   "metadata": {},
   "source": [
    "## Similarity of a specific combo"
   ]
  },
  {
   "cell_type": "code",
   "execution_count": 5,
   "metadata": {
    "collapsed": false
   },
   "outputs": [
    {
     "data": {
      "text/html": [
       "<div>\n",
       "<table border=\"1\" class=\"dataframe\">\n",
       "  <thead>\n",
       "    <tr style=\"text-align: right;\">\n",
       "      <th></th>\n",
       "      <th>additionA</th>\n",
       "      <th>additionB</th>\n",
       "      <th>similarity</th>\n",
       "    </tr>\n",
       "  </thead>\n",
       "  <tbody>\n",
       "    <tr>\n",
       "      <th>1391</th>\n",
       "      <td>plum</td>\n",
       "      <td>vanilla</td>\n",
       "      <td>0.050466</td>\n",
       "    </tr>\n",
       "  </tbody>\n",
       "</table>\n",
       "</div>"
      ],
      "text/plain": [
       "     additionA additionB  similarity\n",
       "1391      plum   vanilla    0.050466"
      ]
     },
     "execution_count": 5,
     "metadata": {},
     "output_type": "execute_result"
    }
   ],
   "source": [
    "def comboSimilarity(additionA, additionB):\n",
    "    # additionA needs to be before additionB alphabetically\n",
    "    if additionA > additionB:\n",
    "        addition_temp = additionA\n",
    "        additionA = additionB\n",
    "        additionB = addition_temp\n",
    "    return df.loc[df['additionA'] == additionA].loc[df['additionB'] == additionB]\n",
    "comboSimilarity('plum', 'vanilla')"
   ]
  },
  {
   "cell_type": "markdown",
   "metadata": {},
   "source": [
    "But is that good or bad? How does it compare to others?"
   ]
  },
  {
   "cell_type": "code",
   "execution_count": 6,
   "metadata": {
    "collapsed": false
   },
   "outputs": [
    {
     "data": {
      "text/html": [
       "<div>\n",
       "<table border=\"1\" class=\"dataframe\">\n",
       "  <thead>\n",
       "    <tr style=\"text-align: right;\">\n",
       "      <th></th>\n",
       "      <th>similarity</th>\n",
       "    </tr>\n",
       "  </thead>\n",
       "  <tbody>\n",
       "    <tr>\n",
       "      <th>count</th>\n",
       "      <td>1485.000000</td>\n",
       "    </tr>\n",
       "    <tr>\n",
       "      <th>mean</th>\n",
       "      <td>0.043910</td>\n",
       "    </tr>\n",
       "    <tr>\n",
       "      <th>std</th>\n",
       "      <td>0.025011</td>\n",
       "    </tr>\n",
       "    <tr>\n",
       "      <th>min</th>\n",
       "      <td>0.011956</td>\n",
       "    </tr>\n",
       "    <tr>\n",
       "      <th>25%</th>\n",
       "      <td>0.025427</td>\n",
       "    </tr>\n",
       "    <tr>\n",
       "      <th>50%</th>\n",
       "      <td>0.037313</td>\n",
       "    </tr>\n",
       "    <tr>\n",
       "      <th>75%</th>\n",
       "      <td>0.053579</td>\n",
       "    </tr>\n",
       "    <tr>\n",
       "      <th>max</th>\n",
       "      <td>0.159639</td>\n",
       "    </tr>\n",
       "  </tbody>\n",
       "</table>\n",
       "</div>"
      ],
      "text/plain": [
       "        similarity\n",
       "count  1485.000000\n",
       "mean      0.043910\n",
       "std       0.025011\n",
       "min       0.011956\n",
       "25%       0.025427\n",
       "50%       0.037313\n",
       "75%       0.053579\n",
       "max       0.159639"
      ]
     },
     "execution_count": 6,
     "metadata": {},
     "output_type": "execute_result"
    }
   ],
   "source": [
    "df.describe()"
   ]
  },
  {
   "cell_type": "markdown",
   "metadata": {},
   "source": [
    "We can see that the plum vanilla combo is above the mean, and it's closer to the 75th percentile than the 50th percentile. So, we can conclude it's not likely a combo that will be great together, as it's not great in many of the same beers."
   ]
  }
 ],
 "metadata": {
  "kernelspec": {
   "display_name": "Python 3",
   "language": "python",
   "name": "python3"
  },
  "language_info": {
   "codemirror_mode": {
    "name": "ipython",
    "version": 3
   },
   "file_extension": ".py",
   "mimetype": "text/x-python",
   "name": "python",
   "nbconvert_exporter": "python",
   "pygments_lexer": "ipython3",
   "version": "3.6.0"
  }
 },
 "nbformat": 4,
 "nbformat_minor": 2
}
