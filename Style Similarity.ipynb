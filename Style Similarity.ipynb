{
 "cells": [
  {
   "cell_type": "code",
   "execution_count": 1,
   "metadata": {
    "collapsed": true
   },
   "outputs": [],
   "source": [
    "# Style Similarity"
   ]
  },
  {
   "cell_type": "code",
   "execution_count": 2,
   "metadata": {
    "collapsed": false
   },
   "outputs": [],
   "source": [
    "# Import libraries\n",
    "import numpy as np\n",
    "import pandas as pd\n",
    "# Import the data\n",
    "import WTBLoad\n",
    "wtb = WTBLoad.load()"
   ]
  },
  {
   "cell_type": "markdown",
   "metadata": {},
   "source": [
    "Question: I want to know how similar 2 style are. I really like Apricot Blondes, and I want to see what other styles Apricot would go in. Perhaps it would be good in a German Pils.\n",
    "\n",
    "How to get there: The dataset shows the percentage of votes that said a style-addition combo would likely taste good. So, we can compare the votes on each addition for any two styles, and see how similar they are."
   ]
  },
  {
   "cell_type": "code",
   "execution_count": 3,
   "metadata": {
    "collapsed": false
   },
   "outputs": [],
   "source": [
    "import math\n",
    "# Square the difference of each row, and then return the mean of the column. \n",
    "# This is the average difference between the two.\n",
    "# It will be higher if they are different, and lower if they are similar\n",
    "def similarity(styleA, styleB):\n",
    "    diff = np.square(wtb[styleA] - wtb[styleB])\n",
    "    return diff.mean()\n",
    "\n",
    "res = []\n",
    "# Loop through each addition pair\n",
    "wtb = wtb.T\n",
    "for styleA in wtb.columns:\n",
    "    for styleB in wtb.columns:\n",
    "        # Skip if styleA and combo B are the same. \n",
    "        # To prevent duplicates, skip if A is after B alphabetically\n",
    "        if styleA != styleB and styleA < styleB:\n",
    "            res.append([styleA, styleB, similarity(styleA, styleB)])\n",
    "df = pd.DataFrame(res, columns=[\"styleA\", \"styleB\", \"similarity\"])"
   ]
  },
  {
   "cell_type": "markdown",
   "metadata": {},
   "source": [
    "## Top 10 most similar styles"
   ]
  },
  {
   "cell_type": "code",
   "execution_count": 4,
   "metadata": {
    "collapsed": false
   },
   "outputs": [
    {
     "data": {
      "text/html": [
       "<div>\n",
       "<table border=\"1\" class=\"dataframe\">\n",
       "  <thead>\n",
       "    <tr style=\"text-align: right;\">\n",
       "      <th></th>\n",
       "      <th>styleA</th>\n",
       "      <th>styleB</th>\n",
       "      <th>similarity</th>\n",
       "    </tr>\n",
       "  </thead>\n",
       "  <tbody>\n",
       "    <tr>\n",
       "      <th>3062</th>\n",
       "      <td>Dunkles Bock</td>\n",
       "      <td>Scottish Heavy</td>\n",
       "      <td>0.011394</td>\n",
       "    </tr>\n",
       "    <tr>\n",
       "      <th>671</th>\n",
       "      <td>American Light Lager</td>\n",
       "      <td>Czech Pale Lager</td>\n",
       "      <td>0.012415</td>\n",
       "    </tr>\n",
       "    <tr>\n",
       "      <th>3041</th>\n",
       "      <td>Dunkles Bock</td>\n",
       "      <td>Irish Stout</td>\n",
       "      <td>0.012559</td>\n",
       "    </tr>\n",
       "    <tr>\n",
       "      <th>2269</th>\n",
       "      <td>British Brown Ale</td>\n",
       "      <td>Scottish Heavy</td>\n",
       "      <td>0.012589</td>\n",
       "    </tr>\n",
       "    <tr>\n",
       "      <th>2362</th>\n",
       "      <td>British Strong Ale</td>\n",
       "      <td>English Barleywine</td>\n",
       "      <td>0.012687</td>\n",
       "    </tr>\n",
       "    <tr>\n",
       "      <th>3268</th>\n",
       "      <td>English IPA</td>\n",
       "      <td>Rye IPA</td>\n",
       "      <td>0.012914</td>\n",
       "    </tr>\n",
       "    <tr>\n",
       "      <th>3060</th>\n",
       "      <td>Dunkles Bock</td>\n",
       "      <td>Schwarzbier</td>\n",
       "      <td>0.012941</td>\n",
       "    </tr>\n",
       "    <tr>\n",
       "      <th>3061</th>\n",
       "      <td>Dunkles Bock</td>\n",
       "      <td>Scottish Export</td>\n",
       "      <td>0.013442</td>\n",
       "    </tr>\n",
       "    <tr>\n",
       "      <th>80</th>\n",
       "      <td>Altbier</td>\n",
       "      <td>Schwarzbier</td>\n",
       "      <td>0.013491</td>\n",
       "    </tr>\n",
       "    <tr>\n",
       "      <th>2226</th>\n",
       "      <td>British Brown Ale</td>\n",
       "      <td>Dunkles Bock</td>\n",
       "      <td>0.013547</td>\n",
       "    </tr>\n",
       "  </tbody>\n",
       "</table>\n",
       "</div>"
      ],
      "text/plain": [
       "                    styleA              styleB  similarity\n",
       "3062          Dunkles Bock      Scottish Heavy    0.011394\n",
       "671   American Light Lager    Czech Pale Lager    0.012415\n",
       "3041          Dunkles Bock         Irish Stout    0.012559\n",
       "2269     British Brown Ale      Scottish Heavy    0.012589\n",
       "2362    British Strong Ale  English Barleywine    0.012687\n",
       "3268           English IPA             Rye IPA    0.012914\n",
       "3060          Dunkles Bock         Schwarzbier    0.012941\n",
       "3061          Dunkles Bock     Scottish Export    0.013442\n",
       "80                 Altbier         Schwarzbier    0.013491\n",
       "2226     British Brown Ale        Dunkles Bock    0.013547"
      ]
     },
     "execution_count": 4,
     "metadata": {},
     "output_type": "execute_result"
    }
   ],
   "source": [
    "df.sort_values(\"similarity\").head(10)"
   ]
  },
  {
   "cell_type": "markdown",
   "metadata": {},
   "source": [
    "## 10 Least Similar styles"
   ]
  },
  {
   "cell_type": "code",
   "execution_count": 5,
   "metadata": {
    "collapsed": false
   },
   "outputs": [
    {
     "data": {
      "text/html": [
       "<div>\n",
       "<table border=\"1\" class=\"dataframe\">\n",
       "  <thead>\n",
       "    <tr style=\"text-align: right;\">\n",
       "      <th></th>\n",
       "      <th>styleA</th>\n",
       "      <th>styleB</th>\n",
       "      <th>similarity</th>\n",
       "    </tr>\n",
       "  </thead>\n",
       "  <tbody>\n",
       "    <tr>\n",
       "      <th>4100</th>\n",
       "      <td>Lambic</td>\n",
       "      <td>Oatmeal Stout</td>\n",
       "      <td>0.089483</td>\n",
       "    </tr>\n",
       "    <tr>\n",
       "      <th>3949</th>\n",
       "      <td>Irish Extra Stout</td>\n",
       "      <td>Saison</td>\n",
       "      <td>0.088457</td>\n",
       "    </tr>\n",
       "    <tr>\n",
       "      <th>3704</th>\n",
       "      <td>Gueuze</td>\n",
       "      <td>Irish Extra Stout</td>\n",
       "      <td>0.085931</td>\n",
       "    </tr>\n",
       "    <tr>\n",
       "      <th>860</th>\n",
       "      <td>American Porter</td>\n",
       "      <td>German Leichtbier</td>\n",
       "      <td>0.080369</td>\n",
       "    </tr>\n",
       "    <tr>\n",
       "      <th>1896</th>\n",
       "      <td>Berliner Weisse</td>\n",
       "      <td>Irish Extra Stout</td>\n",
       "      <td>0.079367</td>\n",
       "    </tr>\n",
       "    <tr>\n",
       "      <th>3964</th>\n",
       "      <td>Irish Extra Stout</td>\n",
       "      <td>Witbier</td>\n",
       "      <td>0.079167</td>\n",
       "    </tr>\n",
       "    <tr>\n",
       "      <th>4105</th>\n",
       "      <td>Lambic</td>\n",
       "      <td>Piwo Grodziskie</td>\n",
       "      <td>0.078759</td>\n",
       "    </tr>\n",
       "    <tr>\n",
       "      <th>2464</th>\n",
       "      <td>Brown IPA</td>\n",
       "      <td>Saison</td>\n",
       "      <td>0.078522</td>\n",
       "    </tr>\n",
       "    <tr>\n",
       "      <th>3960</th>\n",
       "      <td>Irish Extra Stout</td>\n",
       "      <td>Weissbier</td>\n",
       "      <td>0.076746</td>\n",
       "    </tr>\n",
       "    <tr>\n",
       "      <th>822</th>\n",
       "      <td>American Porter</td>\n",
       "      <td>Australian Sparkling Ale</td>\n",
       "      <td>0.076625</td>\n",
       "    </tr>\n",
       "  </tbody>\n",
       "</table>\n",
       "</div>"
      ],
      "text/plain": [
       "                 styleA                    styleB  similarity\n",
       "4100             Lambic             Oatmeal Stout    0.089483\n",
       "3949  Irish Extra Stout                    Saison    0.088457\n",
       "3704             Gueuze         Irish Extra Stout    0.085931\n",
       "860     American Porter         German Leichtbier    0.080369\n",
       "1896    Berliner Weisse         Irish Extra Stout    0.079367\n",
       "3964  Irish Extra Stout                   Witbier    0.079167\n",
       "4105             Lambic           Piwo Grodziskie    0.078759\n",
       "2464          Brown IPA                    Saison    0.078522\n",
       "3960  Irish Extra Stout                 Weissbier    0.076746\n",
       "822     American Porter  Australian Sparkling Ale    0.076625"
      ]
     },
     "execution_count": 5,
     "metadata": {},
     "output_type": "execute_result"
    }
   ],
   "source": [
    "df.sort_values(\"similarity\", ascending=False).head(10)"
   ]
  },
  {
   "cell_type": "markdown",
   "metadata": {},
   "source": [
    "## Similarity of a specific combo"
   ]
  },
  {
   "cell_type": "code",
   "execution_count": 6,
   "metadata": {
    "collapsed": false
   },
   "outputs": [
    {
     "data": {
      "text/html": [
       "<div>\n",
       "<table border=\"1\" class=\"dataframe\">\n",
       "  <thead>\n",
       "    <tr style=\"text-align: right;\">\n",
       "      <th></th>\n",
       "      <th>styleA</th>\n",
       "      <th>styleB</th>\n",
       "      <th>similarity</th>\n",
       "    </tr>\n",
       "  </thead>\n",
       "  <tbody>\n",
       "    <tr>\n",
       "      <th>2170</th>\n",
       "      <td>Blonde Ale</td>\n",
       "      <td>German Pils</td>\n",
       "      <td>0.033016</td>\n",
       "    </tr>\n",
       "  </tbody>\n",
       "</table>\n",
       "</div>"
      ],
      "text/plain": [
       "          styleA       styleB  similarity\n",
       "2170  Blonde Ale  German Pils    0.033016"
      ]
     },
     "execution_count": 6,
     "metadata": {},
     "output_type": "execute_result"
    }
   ],
   "source": [
    "def comboSimilarity(styleA, styleB):\n",
    "    # styleA needs to be before styleB alphabetically\n",
    "    if styleA > styleB:\n",
    "        addition_temp = styleA\n",
    "        styleA = styleB\n",
    "        styleB = addition_temp\n",
    "    return df.loc[df['styleA'] == styleA].loc[df['styleB'] == styleB]\n",
    "comboSimilarity('Blonde Ale', 'German Pils')"
   ]
  },
  {
   "cell_type": "markdown",
   "metadata": {},
   "source": [
    "But is that good or bad? How does it compare to others?"
   ]
  },
  {
   "cell_type": "code",
   "execution_count": 7,
   "metadata": {
    "collapsed": false
   },
   "outputs": [
    {
     "data": {
      "text/html": [
       "<div>\n",
       "<table border=\"1\" class=\"dataframe\">\n",
       "  <thead>\n",
       "    <tr style=\"text-align: right;\">\n",
       "      <th></th>\n",
       "      <th>similarity</th>\n",
       "    </tr>\n",
       "  </thead>\n",
       "  <tbody>\n",
       "    <tr>\n",
       "      <th>count</th>\n",
       "      <td>4560.000000</td>\n",
       "    </tr>\n",
       "    <tr>\n",
       "      <th>mean</th>\n",
       "      <td>0.034498</td>\n",
       "    </tr>\n",
       "    <tr>\n",
       "      <th>std</th>\n",
       "      <td>0.011838</td>\n",
       "    </tr>\n",
       "    <tr>\n",
       "      <th>min</th>\n",
       "      <td>0.011394</td>\n",
       "    </tr>\n",
       "    <tr>\n",
       "      <th>25%</th>\n",
       "      <td>0.025826</td>\n",
       "    </tr>\n",
       "    <tr>\n",
       "      <th>50%</th>\n",
       "      <td>0.032077</td>\n",
       "    </tr>\n",
       "    <tr>\n",
       "      <th>75%</th>\n",
       "      <td>0.040777</td>\n",
       "    </tr>\n",
       "    <tr>\n",
       "      <th>max</th>\n",
       "      <td>0.089483</td>\n",
       "    </tr>\n",
       "  </tbody>\n",
       "</table>\n",
       "</div>"
      ],
      "text/plain": [
       "        similarity\n",
       "count  4560.000000\n",
       "mean      0.034498\n",
       "std       0.011838\n",
       "min       0.011394\n",
       "25%       0.025826\n",
       "50%       0.032077\n",
       "75%       0.040777\n",
       "max       0.089483"
      ]
     },
     "execution_count": 7,
     "metadata": {},
     "output_type": "execute_result"
    }
   ],
   "source": [
    "df.describe()"
   ]
  },
  {
   "cell_type": "markdown",
   "metadata": {},
   "source": [
    "We can see that Blonde Ales and German Pils are right between the mean and 50th percentile, so it's not a bad idea, but it's not a good idea either.\n",
    "\n",
    "We can also take a look at this visually to confirm."
   ]
  },
  {
   "cell_type": "code",
   "execution_count": 8,
   "metadata": {
    "collapsed": false
   },
   "outputs": [
    {
     "data": {
      "image/png": "[encoded data removed]",
      "text/plain": [
       "<matplotlib.figure.Figure at 0x10a87dcc0>"
      ]
     },
     "metadata": {},
     "output_type": "display_data"
    }
   ],
   "source": [
    "%matplotlib inline\n",
    "\n",
    "import matplotlib\n",
    "import matplotlib.pyplot as plt\n",
    "\n",
    "n, bins, patches = plt.hist(df['similarity'], bins=50)\n",
    "\n",
    "similarity = float(comboSimilarity('Blonde Ale', 'German Pils')['similarity'])\n",
    "\n",
    "# Find the histogram bin that holds the similarity between the two\n",
    "target = np.argmax(bins>similarity)\n",
    "patches[target].set_fc('r')\n",
    "plt.show()"
   ]
  }
 ],
 "metadata": {
  "kernelspec": {
   "display_name": "Python 3",
   "language": "python",
   "name": "python3"
  },
  "language_info": {
   "codemirror_mode": {
    "name": "ipython",
    "version": 3
   },
   "file_extension": ".py",
   "mimetype": "text/x-python",
   "name": "python",
   "nbconvert_exporter": "python",
   "pygments_lexer": "ipython3",
   "version": "3.6.0"
  }
 },
 "nbformat": 4,
 "nbformat_minor": 2
}
