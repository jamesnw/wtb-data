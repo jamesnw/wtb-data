{
 "cells": [
  {
   "cell_type": "markdown",
   "metadata": {},
   "source": [
    "Everyone's favorite nerdy comic, XKCD, ranked colors by best tasting. I thought I would use the WTB dataset to compare and see if the data agrees.\n",
    "\n",
    "![Best tasting colors](https://imgs.xkcd.com/comics/best_tasting_colors.png)"
   ]
  },
  {
   "cell_type": "code",
   "execution_count": 1,
   "metadata": {
    "collapsed": false
   },
   "outputs": [],
   "source": [
    "# Import libraries\n",
    "import numpy as np\n",
    "import pandas as pd\n",
    "# Import the data\n",
    "import WTBLoad\n",
    "wtb = WTBLoad.load_frame()"
   ]
  },
  {
   "cell_type": "code",
   "execution_count": 2,
   "metadata": {
    "collapsed": true
   },
   "outputs": [],
   "source": [
    "pink = [\"watermelon\", \"cranberry\"]\n",
    "red = [\"cherry\",\"apple\",\"raspberry\",\"strawberry\", \"rose hips\", \"hibiscus\",'rhubarb', \"red wine\"]\n",
    "blue = [\"blueberry\",\"juniper berries\"]\n",
    "green = [\"green tea\",\"mint\",\"lemon grass\",'cucumber','basil']\n",
    "white = [\"pear\", \"elderflower\", \"ginger\", \"coconut\",\"piña colada\",\"vanilla\",\"white wine\"]\n",
    "brown = [ \"chai\", \"chicory\", \"coriander\", \"cardamom\", \"seeds of paradise\", \"cinnamon\", \"chocolate\", \"peanut butter\", \"hazelnut\",\"pecan\",\"bacon\",\"bourbon\",\"whiskey\",\"coffee\",\"oak\",\"rye\",\"maple\"]\n",
    "orange = [\"apricot\", \"peach\", \"grapefruit\",\"orange peel\", \"pumpkin\",\"sweet potato\"]\n",
    "yellow = [\"chamomile\",\"lemon peel\"]\n",
    "purple = [ \"plum\", \"lavender\", \"port\",\"blackberry\"]\n",
    "black = [ \"anise\", 'peppercorn', 'lemon pepper', \"smoke\"]\n",
    "additionsColors = {\"pink\": pink,\"red\": red,\"blue\": blue,\"green\": green,\"white\": white,\"brown\": brown,\"orange\": orange,\"yellow\": yellow,\"purple\": purple, \"black\": black}"
   ]
  },
  {
   "cell_type": "code",
   "execution_count": 3,
   "metadata": {
    "collapsed": false
   },
   "outputs": [
    {
     "name": "stdout",
     "output_type": "stream",
     "text": [
      "pink\n"
     ]
    }
   ],
   "source": [
    "# Great. Now we have a mapping from color to addition, but we really need it the other way around.\n",
    "additionToColor = {}\n",
    "for color in additionsColors:\n",
    "    for addition in additionsColors[color]:\n",
    "        additionToColor[addition] = color\n",
    "print(additionToColor['watermelon'])"
   ]
  },
  {
   "cell_type": "markdown",
   "metadata": {},
   "source": [
    "Let's add a `color` column."
   ]
  },
  {
   "cell_type": "code",
   "execution_count": 4,
   "metadata": {
    "collapsed": false
   },
   "outputs": [],
   "source": [
    "def addcolor(addition):\n",
    "    return additionToColor[addition]\n",
    "wtb['color'] = np.vectorize(addcolor)(wtb['addition'])"
   ]
  },
  {
   "cell_type": "markdown",
   "metadata": {},
   "source": [
    "Now group by the new color column, get the mean, and sort the values high to low."
   ]
  },
  {
   "cell_type": "code",
   "execution_count": 5,
   "metadata": {
    "collapsed": false
   },
   "outputs": [
    {
     "data": {
      "text/html": [
       "<div>\n",
       "<table border=\"1\" class=\"dataframe\">\n",
       "  <thead>\n",
       "    <tr style=\"text-align: right;\">\n",
       "      <th></th>\n",
       "      <th>vote</th>\n",
       "    </tr>\n",
       "    <tr>\n",
       "      <th>color</th>\n",
       "      <th></th>\n",
       "    </tr>\n",
       "  </thead>\n",
       "  <tbody>\n",
       "    <tr>\n",
       "      <th>blue</th>\n",
       "      <td>0.512541</td>\n",
       "    </tr>\n",
       "    <tr>\n",
       "      <th>brown</th>\n",
       "      <td>0.510719</td>\n",
       "    </tr>\n",
       "    <tr>\n",
       "      <th>orange</th>\n",
       "      <td>0.505209</td>\n",
       "    </tr>\n",
       "    <tr>\n",
       "      <th>purple</th>\n",
       "      <td>0.499319</td>\n",
       "    </tr>\n",
       "    <tr>\n",
       "      <th>yellow</th>\n",
       "      <td>0.493065</td>\n",
       "    </tr>\n",
       "    <tr>\n",
       "      <th>red</th>\n",
       "      <td>0.484784</td>\n",
       "    </tr>\n",
       "    <tr>\n",
       "      <th>black</th>\n",
       "      <td>0.482717</td>\n",
       "    </tr>\n",
       "    <tr>\n",
       "      <th>white</th>\n",
       "      <td>0.471580</td>\n",
       "    </tr>\n",
       "    <tr>\n",
       "      <th>pink</th>\n",
       "      <td>0.466509</td>\n",
       "    </tr>\n",
       "    <tr>\n",
       "      <th>green</th>\n",
       "      <td>0.411418</td>\n",
       "    </tr>\n",
       "  </tbody>\n",
       "</table>\n",
       "</div>"
      ],
      "text/plain": [
       "            vote\n",
       "color           \n",
       "blue    0.512541\n",
       "brown   0.510719\n",
       "orange  0.505209\n",
       "purple  0.499319\n",
       "yellow  0.493065\n",
       "red     0.484784\n",
       "black   0.482717\n",
       "white   0.471580\n",
       "pink    0.466509\n",
       "green   0.411418"
      ]
     },
     "execution_count": 5,
     "metadata": {},
     "output_type": "execute_result"
    }
   ],
   "source": [
    "wtb.groupby(by='color').mean().sort_values('vote',ascending=False)"
   ]
  },
  {
   "cell_type": "markdown",
   "metadata": {},
   "source": [
    "There we have it. Blue is the best tasting color. \n",
    "\n",
    "But brown is awfully close. I wonder how the ranges compare. Let's take a look at a histogram."
   ]
  },
  {
   "cell_type": "code",
   "execution_count": 6,
   "metadata": {
    "collapsed": false
   },
   "outputs": [
    {
     "data": {
      "text/plain": [
       "<matplotlib.axes._subplots.AxesSubplot at 0x111f59978>"
      ]
     },
     "execution_count": 6,
     "metadata": {},
     "output_type": "execute_result"
    },
    {
     "data": {
      "image/png": "[encoded data removed]",
      "text/plain": [
       "<matplotlib.figure.Figure at 0x1114a4860>"
      ]
     },
     "metadata": {},
     "output_type": "display_data"
    }
   ],
   "source": [
    "%matplotlib inline\n",
    "wtb.groupby(by='color').boxplot(subplots=False,rot=45)"
   ]
  },
  {
   "cell_type": "markdown",
   "metadata": {},
   "source": [
    "There we can see that while blue has a slightly higher average, brown has a lot of very high and very low outliers.\n",
    "\n",
    "For more analysis, check out the [What To Brew blog](http://whattobrew.com/blog/2017/03/18/sorry-xkcd-pink-not-best-tasting-color/)."
   ]
  }
 ],
 "metadata": {
  "kernelspec": {
   "display_name": "Python 3",
   "language": "python",
   "name": "python3"
  },
  "language_info": {
   "codemirror_mode": {
    "name": "ipython",
    "version": 3
   },
   "file_extension": ".py",
   "mimetype": "text/x-python",
   "name": "python",
   "nbconvert_exporter": "python",
   "pygments_lexer": "ipython3",
   "version": "3.6.0"
  }
 },
 "nbformat": 4,
 "nbformat_minor": 2
}
